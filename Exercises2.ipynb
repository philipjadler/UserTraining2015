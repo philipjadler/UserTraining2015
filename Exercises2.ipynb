{
 "metadata": {
  "name": "",
  "signature": "sha256:b0498e3b38f8418346786e6e420de557dce790ea122f8b4b56fdd2888665e9d3"
 },
 "nbformat": 3,
 "nbformat_minor": 0,
 "worksheets": [
  {
   "cells": [
    {
     "cell_type": "markdown",
     "metadata": {},
     "source": [
      "The following exercises come from \"Using Python for Interactive Data Analysis\" (So references in these exercises refer to things in that PDF document). The document and data files used for them can be found in links at the end of the Python_Basics notebook (only the small version of the download is needed)"
     ]
    },
    {
     "cell_type": "markdown",
     "metadata": {},
     "source": [
      "1. Using only Python tools, open the FITS file fuse.fits, extract the flux and error columns from the table, and plot these against each other using plot(). Scale the flux and error by 1.0e12 before plotting.\n",
      "2. Smooth pix.fits with a 31x31 boxcar filter (see first tutorial) and make a contour plot at 90, 70, 50, and 30, and 10% of the peak value of the smoothed image.\n",
      "3. Repeat 2, except before generating a contour plot display the unsmoothed image underneath.\n",
      "4. Change the colortable to gray and label your favorite feature with a mathematical expression\n",
      "5. Save the result as a postscript file and view it in your favorite postscript viewer\n",
      "6. Extra credit: parroting the readcursor example, write a short callback function to display a cross cut plot of a displayed image on a left mouse button click, and a vertical cut plot on a right button click (overplotting the image). [Hint: this needs use of subplot(111, Frameon=False) to get overplotting on images to work]\n",
      "\n",
      "1. Read each of the image extensions in the FITS filele tut3f1.fits using the object-oriented interface, assemble an image cube from the 2-d images in each of the extensions (they are all the same size), and without loops, generate a 2-d result that contains the maximum value at that pixel for the whole stack of images. Display the result. The answer will be obvious if you did it correctly.\n",
      "2. Add the keyword/value pair IMNUM= <extension number> to each of the headers tut3f1.fits right after the TARGET keyword. While you are at it, add a history keyword. Verify the headers have been updated with your favorite FITS header viewing tool (i..e, not PyFITS)\n",
      "70\n",
      "3. Using the random number module, generate a million random points with x,y coordinates between 0,1. What fraction of these points lie within a radius of 1 from the origin? How close is this to the expected result?\n",
      "4. The irregularly sampled Discrete Fourier Transform (DFT) is given by\n",
      "\n",
      "$$ F(\\omega) = \\sum\\limits_{n=0}^{N-1} f_n e^{-i\\omega n \\Delta t}  $$\n",
      "\n",
      "Given an array of time samples $f_n$, desired frequencies to sample $\\omega_m$(not necessarily uniformly spaced), and $\\Delta t = 1$ compute the DFT at those frequencies without using any loops.\n",
      "\n"
     ]
    },
    {
     "cell_type": "code",
     "collapsed": false,
     "input": [],
     "language": "python",
     "metadata": {},
     "outputs": []
    }
   ],
   "metadata": {}
  }
 ]
}